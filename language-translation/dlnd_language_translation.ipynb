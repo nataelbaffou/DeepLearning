{
 "cells": [
  {
   "cell_type": "markdown",
   "metadata": {
    "collapsed": true,
    "deletable": true,
    "editable": true
   },
   "source": [
    "# Language Translation\n",
    "In this project, you’re going to take a peek into the realm of neural network machine translation.  You’ll be training a sequence to sequence model on a dataset of English and French sentences that can translate new sentences from English to French.\n",
    "## Get the Data\n",
    "Since translating the whole language of English to French will take lots of time to train, we have provided you with a small portion of the English corpus."
   ]
  },
  {
   "cell_type": "code",
   "execution_count": 1,
   "metadata": {
    "collapsed": true,
    "deletable": true,
    "editable": true
   },
   "outputs": [],
   "source": [
    "\"\"\"\n",
    "DON'T MODIFY ANYTHING IN THIS CELL\n",
    "\"\"\"\n",
    "import helper\n",
    "import problem_unittests as tests\n",
    "\n",
    "source_path = 'data/small_vocab_en'\n",
    "target_path = 'data/small_vocab_fr'\n",
    "source_text = helper.load_data(source_path)\n",
    "target_text = helper.load_data(target_path)"
   ]
  },
  {
   "cell_type": "markdown",
   "metadata": {
    "deletable": true,
    "editable": true
   },
   "source": [
    "## Explore the Data\n",
    "Play around with view_sentence_range to view different parts of the data."
   ]
  },
  {
   "cell_type": "code",
   "execution_count": 2,
   "metadata": {
    "collapsed": false,
    "deletable": true,
    "editable": true
   },
   "outputs": [
    {
     "name": "stdout",
     "output_type": "stream",
     "text": [
      "Dataset Stats\n",
      "Roughly the number of unique words: 227\n",
      "Number of sentences: 137861\n",
      "Average number of words in a sentence: 13.225277634719028\n",
      "\n",
      "English sentences 1000 to 1010:\n",
      "they like strawberries , pears , and bananas .\n",
      "their least liked fruit is the orange , but his least liked is the mango .\n",
      "france is beautiful during spring , and it is never mild in july .\n",
      "paris is usually beautiful during june , but it is never rainy in november .\n",
      "paris is beautiful during september , and it is sometimes rainy in january .\n",
      "india is usually hot during december , and it is never nice in september .\n",
      "the united states is sometimes dry during spring , and it is usually pleasant in autumn .\n",
      "he dislikes strawberries , grapes , and peaches .\n",
      "lemons are your least favorite fruit.\n",
      "paris is never cold during june , and it is sometimes chilly in august .\n",
      "\n",
      "French sentences 1000 to 1010:\n",
      "ils aiment les fraises , les poires et les bananes .\n",
      "leurs fruits moins aimé est l'orange , mais son moins aimé est la mangue .\n",
      "la france est belle au printemps , et il est jamais doux en juillet .\n",
      "paris est généralement beau en juin , mais jamais des pluies en novembre .\n",
      "paris est beau au mois de septembre , et il est parfois pluvieux en janvier .\n",
      "l' inde est habituellement chaud en décembre , et il est jamais agréable en septembre .\n",
      "les états-unis est parfois sec au printemps , et il est généralement agréable à l' automne .\n",
      "il n'aime les fraises , les raisins et les pêches .\n",
      "les citrons sont votre fruit préféré moins .\n",
      "paris ne fait jamais froid en juin , et il est parfois frisquet en août .\n"
     ]
    }
   ],
   "source": [
    "view_sentence_range = (1000, 1010)\n",
    "\n",
    "\"\"\"\n",
    "DON'T MODIFY ANYTHING IN THIS CELL\n",
    "\"\"\"\n",
    "import numpy as np\n",
    "\n",
    "print('Dataset Stats')\n",
    "print('Roughly the number of unique words: {}'.format(len({word: None for word in source_text.split()})))\n",
    "\n",
    "sentences = source_text.split('\\n')\n",
    "word_counts = [len(sentence.split()) for sentence in sentences]\n",
    "print('Number of sentences: {}'.format(len(sentences)))\n",
    "print('Average number of words in a sentence: {}'.format(np.average(word_counts)))\n",
    "\n",
    "print()\n",
    "print('English sentences {} to {}:'.format(*view_sentence_range))\n",
    "print('\\n'.join(source_text.split('\\n')[view_sentence_range[0]:view_sentence_range[1]]))\n",
    "print()\n",
    "print('French sentences {} to {}:'.format(*view_sentence_range))\n",
    "print('\\n'.join(target_text.split('\\n')[view_sentence_range[0]:view_sentence_range[1]]))"
   ]
  },
  {
   "cell_type": "markdown",
   "metadata": {
    "deletable": true,
    "editable": true
   },
   "source": [
    "## Implement Preprocessing Function\n",
    "### Text to Word Ids\n",
    "As you did with other RNNs, you must turn the text into a number so the computer can understand it. In the function `text_to_ids()`, you'll turn `source_text` and `target_text` from words to ids.  However, you need to add the `<EOS>` word id at the end of `target_text`.  This will help the neural network predict when the sentence should end.\n",
    "\n",
    "You can get the `<EOS>` word id by doing:\n",
    "```python\n",
    "target_vocab_to_int['<EOS>']\n",
    "```\n",
    "You can get other word ids using `source_vocab_to_int` and `target_vocab_to_int`."
   ]
  },
  {
   "cell_type": "code",
   "execution_count": 3,
   "metadata": {
    "collapsed": false,
    "deletable": true,
    "editable": true
   },
   "outputs": [
    {
     "name": "stdout",
     "output_type": "stream",
     "text": [
      "Tests Passed\n"
     ]
    }
   ],
   "source": [
    "def text_to_ids(source_text, target_text, source_vocab_to_int, target_vocab_to_int):\n",
    "    \"\"\"\n",
    "    Convert source and target text to proper word ids\n",
    "    :param source_text: String that contains all the source text.\n",
    "    :param target_text: String that contains all the target text.\n",
    "    :param source_vocab_to_int: Dictionary to go from the source words to an id\n",
    "    :param target_vocab_to_int: Dictionary to go from the target words to an id\n",
    "    :return: A tuple of lists (source_id_text, target_id_text)\n",
    "    \"\"\"\n",
    "    source_id = []\n",
    "    target_id = []\n",
    "    sentence_id = []\n",
    "    \n",
    "    sentences = source_text.split('\\n')\n",
    "    for sentence in sentences:\n",
    "        for each in sentence.split():\n",
    "            sentence_id.append(source_vocab_to_int[each])\n",
    "        source_id.append(sentence_id)\n",
    "        sentence_id = []\n",
    "    \n",
    "    sentences = target_text.split('\\n')\n",
    "    for sentence in sentences:\n",
    "        for each in sentence.split():\n",
    "            sentence_id.append(target_vocab_to_int[each])\n",
    "        sentence_id.append(target_vocab_to_int['<EOS>'])\n",
    "        target_id.append(sentence_id)\n",
    "        sentence_id = []\n",
    "    \n",
    "    return source_id, target_id\n",
    "\n",
    "\"\"\"\n",
    "DON'T MODIFY ANYTHING IN THIS CELL THAT IS BELOW THIS LINE\n",
    "\"\"\"\n",
    "tests.test_text_to_ids(text_to_ids)"
   ]
  },
  {
   "cell_type": "markdown",
   "metadata": {
    "deletable": true,
    "editable": true
   },
   "source": [
    "### Preprocess all the data and save it\n",
    "Running the code cell below will preprocess all the data and save it to file."
   ]
  },
  {
   "cell_type": "code",
   "execution_count": 4,
   "metadata": {
    "collapsed": true,
    "deletable": true,
    "editable": true
   },
   "outputs": [],
   "source": [
    "\"\"\"\n",
    "DON'T MODIFY ANYTHING IN THIS CELL\n",
    "\"\"\"\n",
    "helper.preprocess_and_save_data(source_path, target_path, text_to_ids)"
   ]
  },
  {
   "cell_type": "markdown",
   "metadata": {
    "deletable": true,
    "editable": true
   },
   "source": [
    "# Check Point\n",
    "This is your first checkpoint. If you ever decide to come back to this notebook or have to restart the notebook, you can start from here. The preprocessed data has been saved to disk."
   ]
  },
  {
   "cell_type": "code",
   "execution_count": 5,
   "metadata": {
    "collapsed": true,
    "deletable": true,
    "editable": true
   },
   "outputs": [],
   "source": [
    "\"\"\"\n",
    "DON'T MODIFY ANYTHING IN THIS CELL\n",
    "\"\"\"\n",
    "import numpy as np\n",
    "import helper\n",
    "\n",
    "(source_int_text, target_int_text), (source_vocab_to_int, target_vocab_to_int), _ = helper.load_preprocess()"
   ]
  },
  {
   "cell_type": "markdown",
   "metadata": {
    "deletable": true,
    "editable": true
   },
   "source": [
    "### Check the Version of TensorFlow and Access to GPU\n",
    "This will check to make sure you have the correct version of TensorFlow and access to a GPU"
   ]
  },
  {
   "cell_type": "code",
   "execution_count": 6,
   "metadata": {
    "collapsed": false,
    "deletable": true,
    "editable": true
   },
   "outputs": [
    {
     "name": "stdout",
     "output_type": "stream",
     "text": [
      "TensorFlow Version: 1.1.0\n"
     ]
    },
    {
     "name": "stderr",
     "output_type": "stream",
     "text": [
      "/Users/macbookpro/miniconda3/envs/jupyter/lib/python3.6/site-packages/ipykernel/__main__.py:15: UserWarning: No GPU found. Please use a GPU to train your neural network.\n"
     ]
    }
   ],
   "source": [
    "\"\"\"\n",
    "DON'T MODIFY ANYTHING IN THIS CELL\n",
    "\"\"\"\n",
    "from distutils.version import LooseVersion\n",
    "import warnings\n",
    "import tensorflow as tf\n",
    "from tensorflow.python.layers.core import Dense\n",
    "\n",
    "# Check TensorFlow Version\n",
    "assert LooseVersion(tf.__version__) >= LooseVersion('1.1'), 'Please use TensorFlow version 1.1 or newer'\n",
    "print('TensorFlow Version: {}'.format(tf.__version__))\n",
    "\n",
    "# Check for a GPU\n",
    "if not tf.test.gpu_device_name():\n",
    "    warnings.warn('No GPU found. Please use a GPU to train your neural network.')\n",
    "else:\n",
    "    print('Default GPU Device: {}'.format(tf.test.gpu_device_name()))"
   ]
  },
  {
   "cell_type": "markdown",
   "metadata": {
    "deletable": true,
    "editable": true
   },
   "source": [
    "## Build the Neural Network\n",
    "You'll build the components necessary to build a Sequence-to-Sequence model by implementing the following functions below:\n",
    "- `model_inputs`\n",
    "- `process_decoder_input`\n",
    "- `encoding_layer`\n",
    "- `decoding_layer_train`\n",
    "- `decoding_layer_infer`\n",
    "- `decoding_layer`\n",
    "- `seq2seq_model`\n",
    "\n",
    "### Input\n",
    "Implement the `model_inputs()` function to create TF Placeholders for the Neural Network. It should create the following placeholders:\n",
    "\n",
    "- Input text placeholder named \"input\" using the TF Placeholder name parameter with rank 2.\n",
    "- Targets placeholder with rank 2.\n",
    "- Learning rate placeholder with rank 0.\n",
    "- Keep probability placeholder named \"keep_prob\" using the TF Placeholder name parameter with rank 0.\n",
    "- Target sequence length placeholder named \"target_sequence_length\" with rank 1\n",
    "- Max target sequence length tensor named \"max_target_len\" getting its value from applying tf.reduce_max on the target_sequence_length placeholder. Rank 0.\n",
    "- Source sequence length placeholder named \"source_sequence_length\" with rank 1\n",
    "\n",
    "Return the placeholders in the following the tuple (input, targets, learning rate, keep probability, target sequence length, max target sequence length, source sequence length)"
   ]
  },
  {
   "cell_type": "code",
   "execution_count": 7,
   "metadata": {
    "collapsed": false,
    "deletable": true,
    "editable": true
   },
   "outputs": [
    {
     "name": "stdout",
     "output_type": "stream",
     "text": [
      "Tests Passed\n"
     ]
    }
   ],
   "source": [
    "def model_inputs():\n",
    "    \"\"\"\n",
    "    Create TF Placeholders for input, targets, learning rate, and lengths of source and target sequences.\n",
    "    :return: Tuple (input, targets, learning rate, keep probability, target sequence length,\n",
    "    max target sequence length, source sequence length)\n",
    "    \"\"\"\n",
    "    input_ = tf.placeholder(tf.int32, [None, None], name='input')\n",
    "    targets = tf.placeholder(tf.int32, [None, None], name='target')\n",
    "    learn_rate = tf.placeholder(tf.float32, name='learn_rate')\n",
    "    keep_prob = tf.placeholder(tf.float32, name='keep_prob')\n",
    "    target_seq_length = tf.placeholder(tf.int32, [None], name='target_sequence_length')\n",
    "    max_target_seq_length = tf.reduce_max(target_seq_length, name='max_target_len')\n",
    "    source_seq_length = tf.placeholder(tf.int32, [None], name='source_sequence_length')\n",
    "    \n",
    "    return input_, targets, learn_rate, keep_prob, target_seq_length, max_target_seq_length, source_seq_length\n",
    "\n",
    "\n",
    "\"\"\"\n",
    "DON'T MODIFY ANYTHING IN THIS CELL THAT IS BELOW THIS LINE\n",
    "\"\"\"\n",
    "tests.test_model_inputs(model_inputs)"
   ]
  },
  {
   "cell_type": "markdown",
   "metadata": {
    "deletable": true,
    "editable": true
   },
   "source": [
    "### Process Decoder Input\n",
    "Implement `process_decoder_input` by removing the last word id from each batch in `target_data` and concat the GO ID to the begining of each batch."
   ]
  },
  {
   "cell_type": "code",
   "execution_count": 8,
   "metadata": {
    "collapsed": false,
    "deletable": true,
    "editable": true
   },
   "outputs": [
    {
     "name": "stdout",
     "output_type": "stream",
     "text": [
      "Tests Passed\n"
     ]
    }
   ],
   "source": [
    "def process_decoder_input(target_data, target_vocab_to_int, batch_size):\n",
    "    \"\"\"\n",
    "    Preprocess target data for encoding\n",
    "    :param target_data: Target Placehoder\n",
    "    :param target_vocab_to_int: Dictionary to go from the target words to an id\n",
    "    :param batch_size: Batch Size\n",
    "    :return: Preprocessed target data\n",
    "    \"\"\"\n",
    "    rm_ending = tf.strided_slice(target_data, [0, 0], [batch_size, -1], [1, 1])\n",
    "    decoder_input = tf.concat([tf.fill([batch_size, 1], target_vocab_to_int['<GO>']), rm_ending], 1)\n",
    "    return decoder_input\n",
    "\n",
    "\"\"\"\n",
    "DON'T MODIFY ANYTHING IN THIS CELL THAT IS BELOW THIS LINE\n",
    "\"\"\"\n",
    "tests.test_process_encoding_input(process_decoder_input)"
   ]
  },
  {
   "cell_type": "markdown",
   "metadata": {
    "deletable": true,
    "editable": true
   },
   "source": [
    "### Encoding\n",
    "Implement `encoding_layer()` to create a Encoder RNN layer:\n",
    " * Embed the encoder input using [`tf.contrib.layers.embed_sequence`](https://www.tensorflow.org/api_docs/python/tf/contrib/layers/embed_sequence)\n",
    " * Construct a [stacked](https://github.com/tensorflow/tensorflow/blob/6947f65a374ebf29e74bb71e36fd82760056d82c/tensorflow/docs_src/tutorials/recurrent.md#stacking-multiple-lstms) [`tf.contrib.rnn.LSTMCell`](https://www.tensorflow.org/api_docs/python/tf/contrib/rnn/LSTMCell) wrapped in a [`tf.contrib.rnn.DropoutWrapper`](https://www.tensorflow.org/api_docs/python/tf/contrib/rnn/DropoutWrapper)\n",
    " * Pass cell and embedded input to [`tf.nn.dynamic_rnn()`](https://www.tensorflow.org/api_docs/python/tf/nn/dynamic_rnn)"
   ]
  },
  {
   "cell_type": "code",
   "execution_count": 24,
   "metadata": {
    "collapsed": false,
    "deletable": true,
    "editable": true,
    "scrolled": false
   },
   "outputs": [
    {
     "name": "stdout",
     "output_type": "stream",
     "text": [
      "Tests Passed\n"
     ]
    }
   ],
   "source": [
    "from imp import reload\n",
    "reload(tests)\n",
    "\n",
    "def encoding_layer(rnn_inputs, rnn_size, num_layers, keep_prob, \n",
    "                   source_sequence_length, source_vocab_size, \n",
    "                   encoding_embedding_size):\n",
    "    \"\"\"\n",
    "    Create encoding layer\n",
    "    :param rnn_inputs: Inputs for the RNN\n",
    "    :param rnn_size: RNN Size\n",
    "    :param num_layers: Number of layers\n",
    "    :param keep_prob: Dropout keep probability\n",
    "    :param source_sequence_length: a list of the lengths of each sequence in the batch\n",
    "    :param source_vocab_size: vocabulary size of source data\n",
    "    :param encoding_embedding_size: embedding size of source data\n",
    "    :return: tuple (RNN output, RNN state)\n",
    "    \"\"\"\n",
    "    \n",
    "    embed_input = tf.contrib.layers.embed_sequence(rnn_inputs, source_vocab_size, encoding_embedding_size)\n",
    "    \n",
    "    def Make_cell(rnn_size):\n",
    "        lstm = tf.contrib.rnn.LSTMCell(rnn_size, initializer=tf.random_uniform_initializer(-0.1, 0.1, seed=2))\n",
    "        drop = tf.contrib.rnn.DropoutWrapper(lstm, output_keep_prob=keep_prob)\n",
    "        return drop\n",
    "    \n",
    "    cell = tf.contrib.rnn.MultiRNNCell([Make_cell(rnn_size) for _ in range(num_layers)])\n",
    "    rnn_output, rnn_state = tf.nn.dynamic_rnn(cell, embed_input,\n",
    "                                                  sequence_length=source_sequence_length, \n",
    "                                                  dtype=tf.float32)\n",
    "    \n",
    "    return rnn_output, rnn_state\n",
    "\n",
    "\n",
    "\"\"\"\n",
    "DON'T MODIFY ANYTHING IN THIS CELL THAT IS BELOW THIS LINE\n",
    "\"\"\"\n",
    "tests.test_encoding_layer(encoding_layer)"
   ]
  },
  {
   "cell_type": "markdown",
   "metadata": {
    "deletable": true,
    "editable": true
   },
   "source": [
    "### Decoding - Training\n",
    "Create a training decoding layer:\n",
    "* Create a [`tf.contrib.seq2seq.TrainingHelper`](https://www.tensorflow.org/api_docs/python/tf/contrib/seq2seq/TrainingHelper) \n",
    "* Create a [`tf.contrib.seq2seq.BasicDecoder`](https://www.tensorflow.org/api_docs/python/tf/contrib/seq2seq/BasicDecoder)\n",
    "* Obtain the decoder outputs from [`tf.contrib.seq2seq.dynamic_decode`](https://www.tensorflow.org/api_docs/python/tf/contrib/seq2seq/dynamic_decode)"
   ]
  },
  {
   "cell_type": "code",
   "execution_count": 25,
   "metadata": {
    "collapsed": false,
    "deletable": true,
    "editable": true
   },
   "outputs": [
    {
     "name": "stdout",
     "output_type": "stream",
     "text": [
      "Tests Passed\n"
     ]
    }
   ],
   "source": [
    "\n",
    "def decoding_layer_train(encoder_state, dec_cell, dec_embed_input, \n",
    "                         target_sequence_length, max_summary_length, \n",
    "                         output_layer, keep_prob):\n",
    "    \"\"\"\n",
    "    Create a decoding layer for training\n",
    "    :param encoder_state: Encoder State\n",
    "    :param dec_cell: Decoder RNN Cell\n",
    "    :param dec_embed_input: Decoder embedded input\n",
    "    :param target_sequence_length: The lengths of each sequence in the target batch\n",
    "    :param max_summary_length: The length of the longest sequence in the batch\n",
    "    :param output_layer: Function to apply the output layer\n",
    "    :param keep_prob: Dropout keep probability\n",
    "    :return: BasicDecoderOutput containing training logits and sample_id\n",
    "    \"\"\"\n",
    "    \n",
    "    training_helper = tf.contrib.seq2seq.TrainingHelper(dec_embed_input, \n",
    "                                                        sequence_length=target_sequence_length, \n",
    "                                                        time_major=False)\n",
    "    \n",
    "    training_decoder = tf.contrib.seq2seq.BasicDecoder(dec_cell, \n",
    "                                                       training_helper, \n",
    "                                                       encoder_state,\n",
    "                                                       output_layer)\n",
    "    \n",
    "    training_decoder_output, _ = tf.contrib.seq2seq.dynamic_decode(training_decoder,\n",
    "                                                                    impute_finished=True,\n",
    "                                                                    maximum_iterations=max_summary_length)\n",
    "    return training_decoder_output\n",
    "\n",
    "\n",
    "\n",
    "\"\"\"\n",
    "DON'T MODIFY ANYTHING IN THIS CELL THAT IS BELOW THIS LINE\n",
    "\"\"\"\n",
    "tests.test_decoding_layer_train(decoding_layer_train)"
   ]
  },
  {
   "cell_type": "markdown",
   "metadata": {
    "deletable": true,
    "editable": true
   },
   "source": [
    "### Decoding - Inference\n",
    "Create inference decoder:\n",
    "* Create a [`tf.contrib.seq2seq.GreedyEmbeddingHelper`](https://www.tensorflow.org/api_docs/python/tf/contrib/seq2seq/GreedyEmbeddingHelper)\n",
    "* Create a [`tf.contrib.seq2seq.BasicDecoder`](https://www.tensorflow.org/api_docs/python/tf/contrib/seq2seq/BasicDecoder)\n",
    "* Obtain the decoder outputs from [`tf.contrib.seq2seq.dynamic_decode`](https://www.tensorflow.org/api_docs/python/tf/contrib/seq2seq/dynamic_decode)"
   ]
  },
  {
   "cell_type": "code",
   "execution_count": 26,
   "metadata": {
    "collapsed": false,
    "deletable": true,
    "editable": true,
    "scrolled": true
   },
   "outputs": [
    {
     "name": "stdout",
     "output_type": "stream",
     "text": [
      "Tests Passed\n"
     ]
    }
   ],
   "source": [
    "def decoding_layer_infer(encoder_state, dec_cell, dec_embeddings, start_of_sequence_id,\n",
    "                         end_of_sequence_id, max_target_sequence_length,\n",
    "                         vocab_size, output_layer, batch_size, keep_prob):\n",
    "    \"\"\"\n",
    "    Create a decoding layer for inference\n",
    "    :param encoder_state: Encoder state\n",
    "    :param dec_cell: Decoder RNN Cell\n",
    "    :param dec_embeddings: Decoder embeddings\n",
    "    :param start_of_sequence_id: GO ID\n",
    "    :param end_of_sequence_id: EOS Id\n",
    "    :param max_target_sequence_length: Maximum length of target sequences\n",
    "    :param vocab_size: Size of decoder/target vocabulary\n",
    "    :param decoding_scope: TenorFlow Variable Scope for decoding\n",
    "    :param output_layer: Function to apply the output layer\n",
    "    :param batch_size: Batch size\n",
    "    :param keep_prob: Dropout keep probability\n",
    "    :return: BasicDecoderOutput containing inference logits and sample_id\n",
    "    \"\"\"\n",
    "    \n",
    "    start_token = tf.tile(tf.constant([start_of_sequence_id], dtype=tf.int32), [batch_size], name='start_token')\n",
    "    end_token = end_of_sequence_id\n",
    "    \n",
    "    \n",
    "    inference_helper = tf.contrib.seq2seq.GreedyEmbeddingHelper(dec_embeddings, \n",
    "                                                                   start_token, \n",
    "                                                                   end_token)\n",
    "    \n",
    "    inference_decoder = tf.contrib.seq2seq.BasicDecoder(dec_cell, \n",
    "                                                        inference_helper, \n",
    "                                                        encoder_state, \n",
    "                                                        output_layer=output_layer)\n",
    "    \n",
    "    inference_decoder_output, _ = tf.contrib.seq2seq.dynamic_decode(inference_decoder, \n",
    "                                                                 impute_finished=True,\n",
    "                                                                 maximum_iterations=max_target_sequence_length)\n",
    "    \n",
    "    return inference_decoder_output\n",
    "\n",
    "\n",
    "\n",
    "\"\"\"\n",
    "DON'T MODIFY ANYTHING IN THIS CELL THAT IS BELOW THIS LINE\n",
    "\"\"\"\n",
    "tests.test_decoding_layer_infer(decoding_layer_infer)"
   ]
  },
  {
   "cell_type": "markdown",
   "metadata": {
    "deletable": true,
    "editable": true
   },
   "source": [
    "### Build the Decoding Layer\n",
    "Implement `decoding_layer()` to create a Decoder RNN layer.\n",
    "\n",
    "* Embed the target sequences\n",
    "* Construct the decoder LSTM cell (just like you constructed the encoder cell above)\n",
    "* Create an output layer to map the outputs of the decoder to the elements of our vocabulary\n",
    "* Use the your `decoding_layer_train(encoder_state, dec_cell, dec_embed_input, target_sequence_length, max_target_sequence_length, output_layer, keep_prob)` function to get the training logits.\n",
    "* Use your `decoding_layer_infer(encoder_state, dec_cell, dec_embeddings, start_of_sequence_id, end_of_sequence_id, max_target_sequence_length, vocab_size, output_layer, batch_size, keep_prob)` function to get the inference logits.\n",
    "\n",
    "Note: You'll need to use [tf.variable_scope](https://www.tensorflow.org/api_docs/python/tf/variable_scope) to share variables between training and inference."
   ]
  },
  {
   "cell_type": "code",
   "execution_count": 29,
   "metadata": {
    "collapsed": false,
    "deletable": true,
    "editable": true
   },
   "outputs": [
    {
     "name": "stdout",
     "output_type": "stream",
     "text": [
      "Tests Passed\n"
     ]
    }
   ],
   "source": [
    "def decoding_layer(dec_input, encoder_state,\n",
    "                   target_sequence_length, max_target_sequence_length,\n",
    "                   rnn_size,\n",
    "                   num_layers, target_vocab_to_int, target_vocab_size,\n",
    "                   batch_size, keep_prob, decoding_embedding_size):\n",
    "    \"\"\"\n",
    "    Create decoding layer\n",
    "    :param dec_input: Decoder input\n",
    "    :param encoder_state: Encoder state\n",
    "    :param target_sequence_length: The lengths of each sequence in the target batch\n",
    "    :param max_target_sequence_length: Maximum length of target sequences\n",
    "    :param rnn_size: RNN Size\n",
    "    :param num_layers: Number of layers\n",
    "    :param target_vocab_to_int: Dictionary to go from the target words to an id\n",
    "    :param target_vocab_size: Size of target vocabulary\n",
    "    :param batch_size: The size of the batch\n",
    "    :param keep_prob: Dropout keep probability\n",
    "    :param decoding_embedding_size: Decoding embedding size\n",
    "    :return: Tuple of (Training BasicDecoderOutput, Inference BasicDecoderOutput)\n",
    "    \"\"\"\n",
    "    # Embedding\n",
    "    dec_embeddings = tf.Variable(tf.random_uniform([target_vocab_size, decoding_embedding_size]))\n",
    "    dec_embed_input = tf.nn.embedding_lookup(dec_embeddings, dec_input)\n",
    "    \n",
    "    # Decoder LSTM Cell\n",
    "    def Make_cell(rnn_size):\n",
    "        lstm = tf.contrib.rnn.LSTMCell(rnn_size, initializer=tf.random_uniform_initializer(-0.1, 0.1, seed=2))\n",
    "        return lstm\n",
    "    dec_cell = tf.contrib.rnn.MultiRNNCell([Make_cell(rnn_size) for _ in range(num_layers)])\n",
    "    \n",
    "    # Output layer\n",
    "    output_layer = Dense(target_vocab_size, kernel_initializer = tf.truncated_normal_initializer(mean = 0.0, stddev=0.1))\n",
    "    \n",
    "    # training decoder\n",
    "    with tf.variable_scope(\"decode\"):\n",
    "        \n",
    "        training_dec_output = decoding_layer_train(encoder_state, dec_cell, dec_embed_input, \n",
    "                                                   target_sequence_length, max_target_sequence_length, \n",
    "                                                   output_layer, keep_prob)\n",
    "    \n",
    "    # inference decoder\n",
    "    with tf.variable_scope(\"decode\", reuse=True):\n",
    "        \n",
    "        start_of_sequence_id = target_vocab_to_int['<GO>']\n",
    "        end_of_sequence_id = target_vocab_to_int['<EOS>']\n",
    "        vocab_size = len(target_vocab_to_int)\n",
    "        \n",
    "        inference_dec_output = decoding_layer_infer(encoder_state, dec_cell, dec_embeddings, \n",
    "                                                    start_of_sequence_id, end_of_sequence_id, \n",
    "                                                    max_target_sequence_length, vocab_size, \n",
    "                                                    output_layer, batch_size, keep_prob)\n",
    "        \n",
    "    return training_dec_output, inference_dec_output\n",
    "\n",
    "\n",
    "\n",
    "\"\"\"\n",
    "DON'T MODIFY ANYTHING IN THIS CELL THAT IS BELOW THIS LINE\n",
    "\"\"\"\n",
    "tests.test_decoding_layer(decoding_layer)"
   ]
  },
  {
   "cell_type": "markdown",
   "metadata": {
    "deletable": true,
    "editable": true
   },
   "source": [
    "### Build the Neural Network\n",
    "Apply the functions you implemented above to:\n",
    "\n",
    "- Encode the input using your `encoding_layer(rnn_inputs, rnn_size, num_layers, keep_prob,  source_sequence_length, source_vocab_size, encoding_embedding_size)`.\n",
    "- Process target data using your `process_decoder_input(target_data, target_vocab_to_int, batch_size)` function.\n",
    "- Decode the encoded input using your `decoding_layer(dec_input, enc_state, target_sequence_length, max_target_sentence_length, rnn_size, num_layers, target_vocab_to_int, target_vocab_size, batch_size, keep_prob, dec_embedding_size)` function."
   ]
  },
  {
   "cell_type": "code",
   "execution_count": 30,
   "metadata": {
    "collapsed": false,
    "deletable": true,
    "editable": true
   },
   "outputs": [
    {
     "name": "stdout",
     "output_type": "stream",
     "text": [
      "Tests Passed\n"
     ]
    }
   ],
   "source": [
    "def seq2seq_model(input_data, target_data, keep_prob, batch_size,\n",
    "                  source_sequence_length, target_sequence_length,\n",
    "                  max_target_sentence_length,\n",
    "                  source_vocab_size, target_vocab_size,\n",
    "                  enc_embedding_size, dec_embedding_size,\n",
    "                  rnn_size, num_layers, target_vocab_to_int):\n",
    "    \"\"\"\n",
    "    Build the Sequence-to-Sequence part of the neural network\n",
    "    :param input_data: Input placeholder\n",
    "    :param target_data: Target placeholder\n",
    "    :param keep_prob: Dropout keep probability placeholder\n",
    "    :param batch_size: Batch Size\n",
    "    :param source_sequence_length: Sequence Lengths of source sequences in the batch\n",
    "    :param target_sequence_length: Sequence Lengths of target sequences in the batch\n",
    "    :param source_vocab_size: Source vocabulary size\n",
    "    :param target_vocab_size: Target vocabulary size\n",
    "    :param enc_embedding_size: Decoder embedding size\n",
    "    :param dec_embedding_size: Encoder embedding size\n",
    "    :param rnn_size: RNN Size\n",
    "    :param num_layers: Number of layers\n",
    "    :param target_vocab_to_int: Dictionary to go from the target words to an id\n",
    "    :return: Tuple of (Training BasicDecoderOutput, Inference BasicDecoderOutput)\n",
    "    \"\"\"\n",
    "    \n",
    "    enc_output, enc_state = encoding_layer(input_data, rnn_size, \n",
    "                                           num_layers, keep_prob,  source_sequence_length, \n",
    "                                           source_vocab_size, enc_embedding_size)\n",
    "    \n",
    "    dec_input = process_decoder_input(target_data, target_vocab_to_int, batch_size)\n",
    "    \n",
    "    training, inference = decoding_layer(dec_input, enc_state, target_sequence_length, \n",
    "                                                        max_target_sentence_length, rnn_size, num_layers, \n",
    "                                                        target_vocab_to_int, target_vocab_size, batch_size, \n",
    "                                                        keep_prob, dec_embedding_size)\n",
    "    \n",
    "    \n",
    "    return training, inference\n",
    "\n",
    "\n",
    "\"\"\"\n",
    "DON'T MODIFY ANYTHING IN THIS CELL THAT IS BELOW THIS LINE\n",
    "\"\"\"\n",
    "tests.test_seq2seq_model(seq2seq_model)"
   ]
  },
  {
   "cell_type": "markdown",
   "metadata": {
    "deletable": true,
    "editable": true
   },
   "source": [
    "## Neural Network Training\n",
    "### Hyperparameters\n",
    "Tune the following parameters:\n",
    "\n",
    "- Set `epochs` to the number of epochs.\n",
    "- Set `batch_size` to the batch size.\n",
    "- Set `rnn_size` to the size of the RNNs.\n",
    "- Set `num_layers` to the number of layers.\n",
    "- Set `encoding_embedding_size` to the size of the embedding for the encoder.\n",
    "- Set `decoding_embedding_size` to the size of the embedding for the decoder.\n",
    "- Set `learning_rate` to the learning rate.\n",
    "- Set `keep_probability` to the Dropout keep probability\n",
    "- Set `display_step` to state how many steps between each debug output statement"
   ]
  },
  {
   "cell_type": "code",
   "execution_count": 31,
   "metadata": {
    "collapsed": true,
    "deletable": true,
    "editable": true
   },
   "outputs": [],
   "source": [
    "# Number of Epochs\n",
    "epochs = 20\n",
    "# Batch Size\n",
    "batch_size = 50\n",
    "# RNN Size\n",
    "rnn_size = 200\n",
    "# Number of Layers\n",
    "num_layers = 2\n",
    "# Embedding Size\n",
    "encoding_embedding_size = 100\n",
    "decoding_embedding_size = 100\n",
    "# Learning Rate\n",
    "learning_rate = 0.01\n",
    "# Dropout Keep Probability\n",
    "keep_probability = 0.6\n",
    "display_step = 2"
   ]
  },
  {
   "cell_type": "markdown",
   "metadata": {
    "deletable": true,
    "editable": true
   },
   "source": [
    "### Build the Graph\n",
    "Build the graph using the neural network you implemented."
   ]
  },
  {
   "cell_type": "code",
   "execution_count": 32,
   "metadata": {
    "collapsed": true,
    "deletable": true,
    "editable": true
   },
   "outputs": [],
   "source": [
    "\"\"\"\n",
    "DON'T MODIFY ANYTHING IN THIS CELL\n",
    "\"\"\"\n",
    "save_path = 'checkpoints/dev'\n",
    "(source_int_text, target_int_text), (source_vocab_to_int, target_vocab_to_int), _ = helper.load_preprocess()\n",
    "max_target_sentence_length = max([len(sentence) for sentence in source_int_text])\n",
    "\n",
    "train_graph = tf.Graph()\n",
    "with train_graph.as_default():\n",
    "    input_data, targets, lr, keep_prob, target_sequence_length, max_target_sequence_length, source_sequence_length = model_inputs()\n",
    "\n",
    "    #sequence_length = tf.placeholder_with_default(max_target_sentence_length, None, name='sequence_length')\n",
    "    input_shape = tf.shape(input_data)\n",
    "\n",
    "    train_logits, inference_logits = seq2seq_model(tf.reverse(input_data, [-1]),\n",
    "                                                   targets,\n",
    "                                                   keep_prob,\n",
    "                                                   batch_size,\n",
    "                                                   source_sequence_length,\n",
    "                                                   target_sequence_length,\n",
    "                                                   max_target_sequence_length,\n",
    "                                                   len(source_vocab_to_int),\n",
    "                                                   len(target_vocab_to_int),\n",
    "                                                   encoding_embedding_size,\n",
    "                                                   decoding_embedding_size,\n",
    "                                                   rnn_size,\n",
    "                                                   num_layers,\n",
    "                                                   target_vocab_to_int)\n",
    "\n",
    "\n",
    "    training_logits = tf.identity(train_logits.rnn_output, name='logits')\n",
    "    inference_logits = tf.identity(inference_logits.sample_id, name='predictions')\n",
    "\n",
    "    masks = tf.sequence_mask(target_sequence_length, max_target_sequence_length, dtype=tf.float32, name='masks')\n",
    "\n",
    "    with tf.name_scope(\"optimization\"):\n",
    "        # Loss function\n",
    "        cost = tf.contrib.seq2seq.sequence_loss(\n",
    "            training_logits,\n",
    "            targets,\n",
    "            masks)\n",
    "\n",
    "        # Optimizer\n",
    "        optimizer = tf.train.AdamOptimizer(lr)\n",
    "\n",
    "        # Gradient Clipping\n",
    "        gradients = optimizer.compute_gradients(cost)\n",
    "        capped_gradients = [(tf.clip_by_value(grad, -1., 1.), var) for grad, var in gradients if grad is not None]\n",
    "        train_op = optimizer.apply_gradients(capped_gradients)\n"
   ]
  },
  {
   "cell_type": "markdown",
   "metadata": {
    "deletable": true,
    "editable": true
   },
   "source": [
    "Batch and pad the source and target sequences"
   ]
  },
  {
   "cell_type": "code",
   "execution_count": 33,
   "metadata": {
    "collapsed": true,
    "deletable": true,
    "editable": true
   },
   "outputs": [],
   "source": [
    "\"\"\"\n",
    "DON'T MODIFY ANYTHING IN THIS CELL\n",
    "\"\"\"\n",
    "def pad_sentence_batch(sentence_batch, pad_int):\n",
    "    \"\"\"Pad sentences with <PAD> so that each sentence of a batch has the same length\"\"\"\n",
    "    max_sentence = max([len(sentence) for sentence in sentence_batch])\n",
    "    return [sentence + [pad_int] * (max_sentence - len(sentence)) for sentence in sentence_batch]\n",
    "\n",
    "\n",
    "def get_batches(sources, targets, batch_size, source_pad_int, target_pad_int):\n",
    "    \"\"\"Batch targets, sources, and the lengths of their sentences together\"\"\"\n",
    "    for batch_i in range(0, len(sources)//batch_size):\n",
    "        start_i = batch_i * batch_size\n",
    "\n",
    "        # Slice the right amount for the batch\n",
    "        sources_batch = sources[start_i:start_i + batch_size]\n",
    "        targets_batch = targets[start_i:start_i + batch_size]\n",
    "\n",
    "        # Pad\n",
    "        pad_sources_batch = np.array(pad_sentence_batch(sources_batch, source_pad_int))\n",
    "        pad_targets_batch = np.array(pad_sentence_batch(targets_batch, target_pad_int))\n",
    "\n",
    "        # Need the lengths for the _lengths parameters\n",
    "        pad_targets_lengths = []\n",
    "        for target in pad_targets_batch:\n",
    "            pad_targets_lengths.append(len(target))\n",
    "\n",
    "        pad_source_lengths = []\n",
    "        for source in pad_sources_batch:\n",
    "            pad_source_lengths.append(len(source))\n",
    "\n",
    "        yield pad_sources_batch, pad_targets_batch, pad_source_lengths, pad_targets_lengths\n"
   ]
  },
  {
   "cell_type": "markdown",
   "metadata": {
    "deletable": true,
    "editable": true
   },
   "source": [
    "### Train\n",
    "Train the neural network on the preprocessed data. If you have a hard time getting a good loss, check the forms to see if anyone is having the same problem."
   ]
  },
  {
   "cell_type": "code",
   "execution_count": 34,
   "metadata": {
    "collapsed": false,
    "deletable": true,
    "editable": true,
    "scrolled": true
   },
   "outputs": [
    {
     "name": "stdout",
     "output_type": "stream",
     "text": [
      "Epoch   0 Batch    2/2757 - Train Accuracy: 0.2620, Validation Accuracy: 0.3036, Loss: 4.4921\n",
      "Epoch   0 Batch    4/2757 - Train Accuracy: 0.2337, Validation Accuracy: 0.3191, Loss: 3.8316\n",
      "Epoch   0 Batch    6/2757 - Train Accuracy: 0.2860, Validation Accuracy: 0.3373, Loss: 3.7084\n",
      "Epoch   0 Batch    8/2757 - Train Accuracy: 0.2411, Validation Accuracy: 0.3282, Loss: 3.5587\n",
      "Epoch   0 Batch   10/2757 - Train Accuracy: 0.2640, Validation Accuracy: 0.3255, Loss: 3.3494\n",
      "Epoch   0 Batch   12/2757 - Train Accuracy: 0.2850, Validation Accuracy: 0.3273, Loss: 3.2344\n",
      "Epoch   0 Batch   14/2757 - Train Accuracy: 0.3250, Validation Accuracy: 0.3591, Loss: 3.0105\n",
      "Epoch   0 Batch   16/2757 - Train Accuracy: 0.2758, Validation Accuracy: 0.3355, Loss: 3.2175\n",
      "Epoch   0 Batch   18/2757 - Train Accuracy: 0.3350, Validation Accuracy: 0.3755, Loss: 3.0258\n",
      "Epoch   0 Batch   20/2757 - Train Accuracy: 0.3290, Validation Accuracy: 0.3809, Loss: 2.9287\n",
      "Epoch   0 Batch   22/2757 - Train Accuracy: 0.3310, Validation Accuracy: 0.3973, Loss: 2.9052\n",
      "Epoch   0 Batch   24/2757 - Train Accuracy: 0.3411, Validation Accuracy: 0.4155, Loss: 2.9288\n",
      "Epoch   0 Batch   26/2757 - Train Accuracy: 0.3758, Validation Accuracy: 0.4164, Loss: 2.7499\n",
      "Epoch   0 Batch   28/2757 - Train Accuracy: 0.3905, Validation Accuracy: 0.4336, Loss: 2.7575\n",
      "Epoch   0 Batch   30/2757 - Train Accuracy: 0.3940, Validation Accuracy: 0.4364, Loss: 2.7019\n",
      "Epoch   0 Batch   32/2757 - Train Accuracy: 0.3840, Validation Accuracy: 0.4345, Loss: 2.7074\n",
      "Epoch   0 Batch   34/2757 - Train Accuracy: 0.4120, Validation Accuracy: 0.4445, Loss: 2.5110\n",
      "Epoch   0 Batch   36/2757 - Train Accuracy: 0.4419, Validation Accuracy: 0.4464, Loss: 2.5505\n",
      "Epoch   0 Batch   38/2757 - Train Accuracy: 0.4171, Validation Accuracy: 0.4236, Loss: 2.3685\n",
      "Epoch   0 Batch   40/2757 - Train Accuracy: 0.3970, Validation Accuracy: 0.4209, Loss: 2.4764\n",
      "Epoch   0 Batch   42/2757 - Train Accuracy: 0.3779, Validation Accuracy: 0.4382, Loss: 2.5725\n",
      "Epoch   0 Batch   44/2757 - Train Accuracy: 0.4032, Validation Accuracy: 0.4618, Loss: 2.5335\n",
      "Epoch   0 Batch   46/2757 - Train Accuracy: 0.4560, Validation Accuracy: 0.4773, Loss: 2.2147\n",
      "Epoch   0 Batch   48/2757 - Train Accuracy: 0.4305, Validation Accuracy: 0.4636, Loss: 2.4065\n",
      "Epoch   0 Batch   50/2757 - Train Accuracy: 0.4310, Validation Accuracy: 0.4618, Loss: 2.2034\n",
      "Epoch   0 Batch   52/2757 - Train Accuracy: 0.4263, Validation Accuracy: 0.4627, Loss: 2.2990\n",
      "Epoch   0 Batch   54/2757 - Train Accuracy: 0.4450, Validation Accuracy: 0.4527, Loss: 2.0328\n",
      "Epoch   0 Batch   56/2757 - Train Accuracy: 0.3663, Validation Accuracy: 0.4536, Loss: 2.4809\n",
      "Epoch   0 Batch   58/2757 - Train Accuracy: 0.4432, Validation Accuracy: 0.4736, Loss: 2.2402\n",
      "Epoch   0 Batch   60/2757 - Train Accuracy: 0.4320, Validation Accuracy: 0.4591, Loss: 2.0301\n",
      "Epoch   0 Batch   62/2757 - Train Accuracy: 0.4221, Validation Accuracy: 0.4545, Loss: 2.1520\n",
      "Epoch   0 Batch   64/2757 - Train Accuracy: 0.4232, Validation Accuracy: 0.4691, Loss: 2.0619\n",
      "Epoch   0 Batch   66/2757 - Train Accuracy: 0.4540, Validation Accuracy: 0.4300, Loss: 1.9263\n",
      "Epoch   0 Batch   68/2757 - Train Accuracy: 0.4116, Validation Accuracy: 0.4364, Loss: 1.9259\n",
      "Epoch   0 Batch   70/2757 - Train Accuracy: 0.4200, Validation Accuracy: 0.4355, Loss: 1.8024\n",
      "Epoch   0 Batch   72/2757 - Train Accuracy: 0.4762, Validation Accuracy: 0.4691, Loss: 1.5543\n",
      "Epoch   0 Batch   74/2757 - Train Accuracy: 0.4460, Validation Accuracy: 0.4645, Loss: 1.7793\n",
      "Epoch   0 Batch   76/2757 - Train Accuracy: 0.4716, Validation Accuracy: 0.4745, Loss: 1.6180\n",
      "Epoch   0 Batch   78/2757 - Train Accuracy: 0.4430, Validation Accuracy: 0.4418, Loss: 1.6336\n",
      "Epoch   0 Batch   80/2757 - Train Accuracy: 0.4210, Validation Accuracy: 0.4418, Loss: 1.6034\n",
      "Epoch   0 Batch   82/2757 - Train Accuracy: 0.4180, Validation Accuracy: 0.4364, Loss: 1.6380\n",
      "Epoch   0 Batch   84/2757 - Train Accuracy: 0.4800, Validation Accuracy: 0.4500, Loss: 1.4575\n",
      "Epoch   0 Batch   86/2757 - Train Accuracy: 0.4610, Validation Accuracy: 0.4900, Loss: 1.4020\n",
      "Epoch   0 Batch   88/2757 - Train Accuracy: 0.5076, Validation Accuracy: 0.5082, Loss: 1.2919\n",
      "Epoch   0 Batch   90/2757 - Train Accuracy: 0.4000, Validation Accuracy: 0.4927, Loss: 1.5206\n",
      "Epoch   0 Batch   92/2757 - Train Accuracy: 0.4270, Validation Accuracy: 0.4909, Loss: 1.3496\n",
      "Epoch   0 Batch   94/2757 - Train Accuracy: 0.4540, Validation Accuracy: 0.4982, Loss: 1.2066\n",
      "Epoch   0 Batch   96/2757 - Train Accuracy: 0.4337, Validation Accuracy: 0.4936, Loss: 1.3314\n",
      "Epoch   0 Batch   98/2757 - Train Accuracy: 0.4890, Validation Accuracy: 0.5109, Loss: 1.1343\n",
      "Epoch   0 Batch  100/2757 - Train Accuracy: 0.4032, Validation Accuracy: 0.4818, Loss: 1.3399\n",
      "Epoch   0 Batch  102/2757 - Train Accuracy: 0.4530, Validation Accuracy: 0.4855, Loss: 1.2436\n",
      "Epoch   0 Batch  104/2757 - Train Accuracy: 0.4084, Validation Accuracy: 0.4882, Loss: 1.1934\n",
      "Epoch   0 Batch  106/2757 - Train Accuracy: 0.4400, Validation Accuracy: 0.5027, Loss: 1.1485\n",
      "Epoch   0 Batch  108/2757 - Train Accuracy: 0.4980, Validation Accuracy: 0.5182, Loss: 1.0720\n",
      "Epoch   0 Batch  110/2757 - Train Accuracy: 0.4874, Validation Accuracy: 0.5082, Loss: 1.1233\n",
      "Epoch   0 Batch  112/2757 - Train Accuracy: 0.5211, Validation Accuracy: 0.5300, Loss: 1.0824\n",
      "Epoch   0 Batch  114/2757 - Train Accuracy: 0.4789, Validation Accuracy: 0.5255, Loss: 1.0248\n",
      "Epoch   0 Batch  116/2757 - Train Accuracy: 0.4670, Validation Accuracy: 0.5155, Loss: 1.0133\n",
      "Epoch   0 Batch  118/2757 - Train Accuracy: 0.5030, Validation Accuracy: 0.5445, Loss: 1.0399\n",
      "Epoch   0 Batch  120/2757 - Train Accuracy: 0.4511, Validation Accuracy: 0.5300, Loss: 1.1063\n",
      "Epoch   0 Batch  122/2757 - Train Accuracy: 0.5150, Validation Accuracy: 0.5145, Loss: 0.9991\n",
      "Epoch   0 Batch  124/2757 - Train Accuracy: 0.4684, Validation Accuracy: 0.5364, Loss: 1.0475\n",
      "Epoch   0 Batch  126/2757 - Train Accuracy: 0.4968, Validation Accuracy: 0.5627, Loss: 1.0972\n",
      "Epoch   0 Batch  128/2757 - Train Accuracy: 0.5067, Validation Accuracy: 0.5473, Loss: 0.9928\n",
      "Epoch   0 Batch  130/2757 - Train Accuracy: 0.4840, Validation Accuracy: 0.5136, Loss: 0.9946\n",
      "Epoch   0 Batch  132/2757 - Train Accuracy: 0.4884, Validation Accuracy: 0.5336, Loss: 0.9391\n",
      "Epoch   0 Batch  134/2757 - Train Accuracy: 0.5137, Validation Accuracy: 0.5145, Loss: 0.9279\n",
      "Epoch   0 Batch  136/2757 - Train Accuracy: 0.5137, Validation Accuracy: 0.4855, Loss: 0.9548\n",
      "Epoch   0 Batch  138/2757 - Train Accuracy: 0.5042, Validation Accuracy: 0.5409, Loss: 0.9327\n",
      "Epoch   0 Batch  140/2757 - Train Accuracy: 0.4900, Validation Accuracy: 0.4973, Loss: 0.9710\n",
      "Epoch   0 Batch  142/2757 - Train Accuracy: 0.4960, Validation Accuracy: 0.5200, Loss: 0.9229\n",
      "Epoch   0 Batch  144/2757 - Train Accuracy: 0.5440, Validation Accuracy: 0.5436, Loss: 0.8729\n",
      "Epoch   0 Batch  146/2757 - Train Accuracy: 0.5460, Validation Accuracy: 0.5118, Loss: 0.8014\n",
      "Epoch   0 Batch  148/2757 - Train Accuracy: 0.5782, Validation Accuracy: 0.5391, Loss: 0.7759\n",
      "Epoch   0 Batch  150/2757 - Train Accuracy: 0.5322, Validation Accuracy: 0.5564, Loss: 0.9215\n",
      "Epoch   0 Batch  152/2757 - Train Accuracy: 0.5020, Validation Accuracy: 0.5518, Loss: 0.8848\n",
      "Epoch   0 Batch  154/2757 - Train Accuracy: 0.5674, Validation Accuracy: 0.5809, Loss: 0.8605\n",
      "Epoch   0 Batch  156/2757 - Train Accuracy: 0.5095, Validation Accuracy: 0.5200, Loss: 0.8296\n",
      "Epoch   0 Batch  158/2757 - Train Accuracy: 0.5700, Validation Accuracy: 0.5318, Loss: 0.8185\n",
      "Epoch   0 Batch  160/2757 - Train Accuracy: 0.5400, Validation Accuracy: 0.5409, Loss: 0.8505\n",
      "Epoch   0 Batch  162/2757 - Train Accuracy: 0.4979, Validation Accuracy: 0.5255, Loss: 0.8674\n",
      "Epoch   0 Batch  164/2757 - Train Accuracy: 0.5516, Validation Accuracy: 0.5464, Loss: 0.8357\n",
      "Epoch   0 Batch  166/2757 - Train Accuracy: 0.5160, Validation Accuracy: 0.5164, Loss: 0.8243\n",
      "Epoch   0 Batch  168/2757 - Train Accuracy: 0.5168, Validation Accuracy: 0.5627, Loss: 0.8026\n",
      "Epoch   0 Batch  170/2757 - Train Accuracy: 0.5780, Validation Accuracy: 0.5736, Loss: 0.7588\n",
      "Epoch   0 Batch  172/2757 - Train Accuracy: 0.5010, Validation Accuracy: 0.5245, Loss: 0.8110\n",
      "Epoch   0 Batch  174/2757 - Train Accuracy: 0.5168, Validation Accuracy: 0.5545, Loss: 0.8733\n",
      "Epoch   0 Batch  176/2757 - Train Accuracy: 0.5470, Validation Accuracy: 0.5309, Loss: 0.7724\n",
      "Epoch   0 Batch  178/2757 - Train Accuracy: 0.5432, Validation Accuracy: 0.5264, Loss: 0.7851\n",
      "Epoch   0 Batch  180/2757 - Train Accuracy: 0.5890, Validation Accuracy: 0.5473, Loss: 0.8144\n",
      "Epoch   0 Batch  182/2757 - Train Accuracy: 0.5979, Validation Accuracy: 0.5555, Loss: 0.7441\n",
      "Epoch   0 Batch  184/2757 - Train Accuracy: 0.5474, Validation Accuracy: 0.5327, Loss: 0.7472\n",
      "Epoch   0 Batch  186/2757 - Train Accuracy: 0.5710, Validation Accuracy: 0.5309, Loss: 0.7670\n",
      "Epoch   0 Batch  188/2757 - Train Accuracy: 0.5811, Validation Accuracy: 0.5373, Loss: 0.7533\n",
      "Epoch   0 Batch  190/2757 - Train Accuracy: 0.5570, Validation Accuracy: 0.5227, Loss: 0.7955\n",
      "Epoch   0 Batch  192/2757 - Train Accuracy: 0.5947, Validation Accuracy: 0.5500, Loss: 0.7503\n",
      "Epoch   0 Batch  194/2757 - Train Accuracy: 0.6789, Validation Accuracy: 0.5973, Loss: 0.7360\n",
      "Epoch   0 Batch  196/2757 - Train Accuracy: 0.5021, Validation Accuracy: 0.5409, Loss: 0.7337\n",
      "Epoch   0 Batch  198/2757 - Train Accuracy: 0.6232, Validation Accuracy: 0.5673, Loss: 0.6945\n",
      "Epoch   0 Batch  200/2757 - Train Accuracy: 0.5053, Validation Accuracy: 0.5400, Loss: 0.7655\n",
      "Epoch   0 Batch  202/2757 - Train Accuracy: 0.5368, Validation Accuracy: 0.5345, Loss: 0.7178\n",
      "Epoch   0 Batch  204/2757 - Train Accuracy: 0.5758, Validation Accuracy: 0.5564, Loss: 0.7017\n",
      "Epoch   0 Batch  206/2757 - Train Accuracy: 0.5947, Validation Accuracy: 0.5509, Loss: 0.7178\n",
      "Epoch   0 Batch  208/2757 - Train Accuracy: 0.5442, Validation Accuracy: 0.5718, Loss: 0.7391\n",
      "Epoch   0 Batch  210/2757 - Train Accuracy: 0.5211, Validation Accuracy: 0.5700, Loss: 0.7087\n",
      "Epoch   0 Batch  212/2757 - Train Accuracy: 0.6273, Validation Accuracy: 0.5682, Loss: 0.5767\n",
      "Epoch   0 Batch  214/2757 - Train Accuracy: 0.6189, Validation Accuracy: 0.5691, Loss: 0.6795\n",
      "Epoch   0 Batch  216/2757 - Train Accuracy: 0.6263, Validation Accuracy: 0.5727, Loss: 0.6275\n",
      "Epoch   0 Batch  218/2757 - Train Accuracy: 0.6430, Validation Accuracy: 0.5609, Loss: 0.6664\n",
      "Epoch   0 Batch  220/2757 - Train Accuracy: 0.5979, Validation Accuracy: 0.5455, Loss: 0.6573\n",
      "Epoch   0 Batch  222/2757 - Train Accuracy: 0.6620, Validation Accuracy: 0.5555, Loss: 0.6923\n",
      "Epoch   0 Batch  224/2757 - Train Accuracy: 0.5550, Validation Accuracy: 0.5982, Loss: 0.6989\n",
      "Epoch   0 Batch  226/2757 - Train Accuracy: 0.5910, Validation Accuracy: 0.6009, Loss: 0.6848\n",
      "Epoch   0 Batch  228/2757 - Train Accuracy: 0.6222, Validation Accuracy: 0.5664, Loss: 0.7364\n",
      "Epoch   0 Batch  230/2757 - Train Accuracy: 0.6011, Validation Accuracy: 0.5573, Loss: 0.6617\n",
      "Epoch   0 Batch  232/2757 - Train Accuracy: 0.6126, Validation Accuracy: 0.5618, Loss: 0.6792\n",
      "Epoch   0 Batch  234/2757 - Train Accuracy: 0.6448, Validation Accuracy: 0.5582, Loss: 0.6713\n",
      "Epoch   0 Batch  236/2757 - Train Accuracy: 0.6326, Validation Accuracy: 0.5782, Loss: 0.6138\n",
      "Epoch   0 Batch  238/2757 - Train Accuracy: 0.6381, Validation Accuracy: 0.5945, Loss: 0.6272\n",
      "Epoch   0 Batch  240/2757 - Train Accuracy: 0.6130, Validation Accuracy: 0.5509, Loss: 0.6879\n",
      "Epoch   0 Batch  242/2757 - Train Accuracy: 0.6567, Validation Accuracy: 0.5791, Loss: 0.6279\n",
      "Epoch   0 Batch  244/2757 - Train Accuracy: 0.6620, Validation Accuracy: 0.5955, Loss: 0.5927\n",
      "Epoch   0 Batch  246/2757 - Train Accuracy: 0.6305, Validation Accuracy: 0.5764, Loss: 0.6306\n",
      "Epoch   0 Batch  248/2757 - Train Accuracy: 0.6470, Validation Accuracy: 0.5655, Loss: 0.6157\n",
      "Epoch   0 Batch  250/2757 - Train Accuracy: 0.6347, Validation Accuracy: 0.5955, Loss: 0.6478\n",
      "Epoch   0 Batch  252/2757 - Train Accuracy: 0.6476, Validation Accuracy: 0.5718, Loss: 0.5736\n",
      "Epoch   0 Batch  254/2757 - Train Accuracy: 0.6390, Validation Accuracy: 0.5818, Loss: 0.6254\n",
      "Epoch   0 Batch  256/2757 - Train Accuracy: 0.6130, Validation Accuracy: 0.5945, Loss: 0.6239\n",
      "Epoch   0 Batch  258/2757 - Train Accuracy: 0.6358, Validation Accuracy: 0.5955, Loss: 0.6486\n",
      "Epoch   0 Batch  260/2757 - Train Accuracy: 0.6900, Validation Accuracy: 0.5700, Loss: 0.5666\n",
      "Epoch   0 Batch  262/2757 - Train Accuracy: 0.7070, Validation Accuracy: 0.5655, Loss: 0.5595\n",
      "Epoch   0 Batch  264/2757 - Train Accuracy: 0.6768, Validation Accuracy: 0.5945, Loss: 0.6119\n",
      "Epoch   0 Batch  266/2757 - Train Accuracy: 0.6411, Validation Accuracy: 0.5900, Loss: 0.6140\n",
      "Epoch   0 Batch  268/2757 - Train Accuracy: 0.6053, Validation Accuracy: 0.5827, Loss: 0.6683\n",
      "Epoch   0 Batch  270/2757 - Train Accuracy: 0.6095, Validation Accuracy: 0.5555, Loss: 0.5846\n",
      "Epoch   0 Batch  272/2757 - Train Accuracy: 0.6380, Validation Accuracy: 0.5609, Loss: 0.6060\n",
      "Epoch   0 Batch  274/2757 - Train Accuracy: 0.5856, Validation Accuracy: 0.5973, Loss: 0.6802\n",
      "Epoch   0 Batch  276/2757 - Train Accuracy: 0.6168, Validation Accuracy: 0.6473, Loss: 0.5478\n",
      "Epoch   0 Batch  278/2757 - Train Accuracy: 0.6750, Validation Accuracy: 0.6064, Loss: 0.5460\n",
      "Epoch   0 Batch  280/2757 - Train Accuracy: 0.5884, Validation Accuracy: 0.6509, Loss: 0.5632\n",
      "Epoch   0 Batch  282/2757 - Train Accuracy: 0.7160, Validation Accuracy: 0.6773, Loss: 0.5278\n",
      "Epoch   0 Batch  284/2757 - Train Accuracy: 0.6590, Validation Accuracy: 0.6309, Loss: 0.5119\n",
      "Epoch   0 Batch  286/2757 - Train Accuracy: 0.6105, Validation Accuracy: 0.6327, Loss: 0.6072\n",
      "Epoch   0 Batch  288/2757 - Train Accuracy: 0.6280, Validation Accuracy: 0.6473, Loss: 0.5494\n",
      "Epoch   0 Batch  290/2757 - Train Accuracy: 0.6380, Validation Accuracy: 0.6473, Loss: 0.5428\n",
      "Epoch   0 Batch  292/2757 - Train Accuracy: 0.6240, Validation Accuracy: 0.6209, Loss: 0.5226\n",
      "Epoch   0 Batch  294/2757 - Train Accuracy: 0.6221, Validation Accuracy: 0.6127, Loss: 0.5596\n",
      "Epoch   0 Batch  296/2757 - Train Accuracy: 0.5884, Validation Accuracy: 0.6482, Loss: 0.5525\n",
      "Epoch   0 Batch  298/2757 - Train Accuracy: 0.6550, Validation Accuracy: 0.6355, Loss: 0.5322\n",
      "Epoch   0 Batch  300/2757 - Train Accuracy: 0.6440, Validation Accuracy: 0.6818, Loss: 0.4866\n",
      "Epoch   0 Batch  302/2757 - Train Accuracy: 0.5926, Validation Accuracy: 0.6882, Loss: 0.5448\n",
      "Epoch   0 Batch  304/2757 - Train Accuracy: 0.6295, Validation Accuracy: 0.6500, Loss: 0.5703\n",
      "Epoch   0 Batch  306/2757 - Train Accuracy: 0.6200, Validation Accuracy: 0.6336, Loss: 0.5152\n",
      "Epoch   0 Batch  308/2757 - Train Accuracy: 0.6290, Validation Accuracy: 0.6491, Loss: 0.5573\n",
      "Epoch   0 Batch  310/2757 - Train Accuracy: 0.6410, Validation Accuracy: 0.6373, Loss: 0.5470\n",
      "Epoch   0 Batch  312/2757 - Train Accuracy: 0.5737, Validation Accuracy: 0.6645, Loss: 0.5405\n",
      "Epoch   0 Batch  314/2757 - Train Accuracy: 0.6632, Validation Accuracy: 0.6509, Loss: 0.5275\n",
      "Epoch   0 Batch  316/2757 - Train Accuracy: 0.7190, Validation Accuracy: 0.6391, Loss: 0.4759\n",
      "Epoch   0 Batch  318/2757 - Train Accuracy: 0.6160, Validation Accuracy: 0.5982, Loss: 0.4520\n",
      "Epoch   0 Batch  320/2757 - Train Accuracy: 0.6310, Validation Accuracy: 0.6255, Loss: 0.5260\n",
      "Epoch   0 Batch  322/2757 - Train Accuracy: 0.7010, Validation Accuracy: 0.6436, Loss: 0.4782\n",
      "Epoch   0 Batch  324/2757 - Train Accuracy: 0.6674, Validation Accuracy: 0.6427, Loss: 0.5314\n",
      "Epoch   0 Batch  326/2757 - Train Accuracy: 0.7019, Validation Accuracy: 0.6727, Loss: 0.4455\n",
      "Epoch   0 Batch  328/2757 - Train Accuracy: 0.6000, Validation Accuracy: 0.6573, Loss: 0.4886\n",
      "Epoch   0 Batch  330/2757 - Train Accuracy: 0.7095, Validation Accuracy: 0.6300, Loss: 0.4772\n",
      "Epoch   0 Batch  332/2757 - Train Accuracy: 0.6860, Validation Accuracy: 0.6318, Loss: 0.5179\n",
      "Epoch   0 Batch  334/2757 - Train Accuracy: 0.7210, Validation Accuracy: 0.6355, Loss: 0.4559\n",
      "Epoch   0 Batch  336/2757 - Train Accuracy: 0.6486, Validation Accuracy: 0.6264, Loss: 0.4454\n",
      "Epoch   0 Batch  338/2757 - Train Accuracy: 0.6740, Validation Accuracy: 0.5982, Loss: 0.4703\n",
      "Epoch   0 Batch  340/2757 - Train Accuracy: 0.6500, Validation Accuracy: 0.6018, Loss: 0.5150\n",
      "Epoch   0 Batch  342/2757 - Train Accuracy: 0.6337, Validation Accuracy: 0.6082, Loss: 0.4804\n",
      "Epoch   0 Batch  344/2757 - Train Accuracy: 0.6958, Validation Accuracy: 0.6409, Loss: 0.5070\n",
      "Epoch   0 Batch  346/2757 - Train Accuracy: 0.7010, Validation Accuracy: 0.6500, Loss: 0.4451\n",
      "Epoch   0 Batch  348/2757 - Train Accuracy: 0.6579, Validation Accuracy: 0.6645, Loss: 0.4882\n",
      "Epoch   0 Batch  350/2757 - Train Accuracy: 0.6740, Validation Accuracy: 0.6173, Loss: 0.4503\n",
      "Epoch   0 Batch  352/2757 - Train Accuracy: 0.6463, Validation Accuracy: 0.6255, Loss: 0.4525\n",
      "Epoch   0 Batch  354/2757 - Train Accuracy: 0.6781, Validation Accuracy: 0.6573, Loss: 0.4292\n",
      "Epoch   0 Batch  356/2757 - Train Accuracy: 0.7140, Validation Accuracy: 0.6318, Loss: 0.4710\n",
      "Epoch   0 Batch  358/2757 - Train Accuracy: 0.6660, Validation Accuracy: 0.6400, Loss: 0.4571\n",
      "Epoch   0 Batch  360/2757 - Train Accuracy: 0.6663, Validation Accuracy: 0.6527, Loss: 0.4714\n",
      "Epoch   0 Batch  362/2757 - Train Accuracy: 0.6600, Validation Accuracy: 0.6427, Loss: 0.4265\n",
      "Epoch   0 Batch  364/2757 - Train Accuracy: 0.6440, Validation Accuracy: 0.6755, Loss: 0.4707\n",
      "Epoch   0 Batch  366/2757 - Train Accuracy: 0.6590, Validation Accuracy: 0.6264, Loss: 0.4288\n",
      "Epoch   0 Batch  368/2757 - Train Accuracy: 0.5926, Validation Accuracy: 0.6400, Loss: 0.4675\n",
      "Epoch   0 Batch  370/2757 - Train Accuracy: 0.6570, Validation Accuracy: 0.6391, Loss: 0.4476\n",
      "Epoch   0 Batch  372/2757 - Train Accuracy: 0.7116, Validation Accuracy: 0.6655, Loss: 0.4573\n",
      "Epoch   0 Batch  374/2757 - Train Accuracy: 0.6770, Validation Accuracy: 0.6955, Loss: 0.4875\n",
      "Epoch   0 Batch  376/2757 - Train Accuracy: 0.7295, Validation Accuracy: 0.6845, Loss: 0.4033\n",
      "Epoch   0 Batch  378/2757 - Train Accuracy: 0.6820, Validation Accuracy: 0.6755, Loss: 0.4376\n",
      "Epoch   0 Batch  380/2757 - Train Accuracy: 0.6500, Validation Accuracy: 0.6782, Loss: 0.4301\n",
      "Epoch   0 Batch  382/2757 - Train Accuracy: 0.6811, Validation Accuracy: 0.6827, Loss: 0.4744\n",
      "Epoch   0 Batch  384/2757 - Train Accuracy: 0.7232, Validation Accuracy: 0.7009, Loss: 0.4434\n",
      "Epoch   0 Batch  386/2757 - Train Accuracy: 0.6021, Validation Accuracy: 0.6364, Loss: 0.4493\n",
      "Epoch   0 Batch  388/2757 - Train Accuracy: 0.6890, Validation Accuracy: 0.6427, Loss: 0.3973\n",
      "Epoch   0 Batch  390/2757 - Train Accuracy: 0.6632, Validation Accuracy: 0.6682, Loss: 0.4630\n",
      "Epoch   0 Batch  392/2757 - Train Accuracy: 0.6800, Validation Accuracy: 0.6709, Loss: 0.4561\n",
      "Epoch   0 Batch  394/2757 - Train Accuracy: 0.7358, Validation Accuracy: 0.6918, Loss: 0.4233\n",
      "Epoch   0 Batch  396/2757 - Train Accuracy: 0.6926, Validation Accuracy: 0.6882, Loss: 0.4353\n",
      "Epoch   0 Batch  398/2757 - Train Accuracy: 0.7730, Validation Accuracy: 0.6745, Loss: 0.3700\n",
      "Epoch   0 Batch  400/2757 - Train Accuracy: 0.6642, Validation Accuracy: 0.6882, Loss: 0.4671\n",
      "Epoch   0 Batch  402/2757 - Train Accuracy: 0.6926, Validation Accuracy: 0.6591, Loss: 0.4487\n",
      "Epoch   0 Batch  404/2757 - Train Accuracy: 0.6860, Validation Accuracy: 0.7255, Loss: 0.3884\n",
      "Epoch   0 Batch  406/2757 - Train Accuracy: 0.7057, Validation Accuracy: 0.6909, Loss: 0.3962\n",
      "Epoch   0 Batch  408/2757 - Train Accuracy: 0.7063, Validation Accuracy: 0.6945, Loss: 0.4131\n",
      "Epoch   0 Batch  410/2757 - Train Accuracy: 0.6370, Validation Accuracy: 0.6536, Loss: 0.3674\n",
      "Epoch   0 Batch  412/2757 - Train Accuracy: 0.7505, Validation Accuracy: 0.6736, Loss: 0.4106\n",
      "Epoch   0 Batch  414/2757 - Train Accuracy: 0.7053, Validation Accuracy: 0.7145, Loss: 0.4601\n",
      "Epoch   0 Batch  416/2757 - Train Accuracy: 0.6800, Validation Accuracy: 0.6336, Loss: 0.4145\n",
      "Epoch   0 Batch  418/2757 - Train Accuracy: 0.7100, Validation Accuracy: 0.6709, Loss: 0.4131\n",
      "Epoch   0 Batch  420/2757 - Train Accuracy: 0.7158, Validation Accuracy: 0.7109, Loss: 0.4270\n",
      "Epoch   0 Batch  422/2757 - Train Accuracy: 0.7060, Validation Accuracy: 0.7282, Loss: 0.3944\n",
      "Epoch   0 Batch  424/2757 - Train Accuracy: 0.6632, Validation Accuracy: 0.7073, Loss: 0.3674\n",
      "Epoch   0 Batch  426/2757 - Train Accuracy: 0.7250, Validation Accuracy: 0.6973, Loss: 0.4010\n",
      "Epoch   0 Batch  428/2757 - Train Accuracy: 0.6822, Validation Accuracy: 0.7018, Loss: 0.4322\n",
      "Epoch   0 Batch  430/2757 - Train Accuracy: 0.7060, Validation Accuracy: 0.7036, Loss: 0.4163\n",
      "Epoch   0 Batch  432/2757 - Train Accuracy: 0.6316, Validation Accuracy: 0.7055, Loss: 0.4449\n",
      "Epoch   0 Batch  434/2757 - Train Accuracy: 0.7095, Validation Accuracy: 0.7127, Loss: 0.4690\n",
      "Epoch   0 Batch  436/2757 - Train Accuracy: 0.6200, Validation Accuracy: 0.7218, Loss: 0.3629\n",
      "Epoch   0 Batch  438/2757 - Train Accuracy: 0.7060, Validation Accuracy: 0.7245, Loss: 0.3633\n",
      "Epoch   0 Batch  440/2757 - Train Accuracy: 0.7221, Validation Accuracy: 0.7209, Loss: 0.3821\n",
      "Epoch   0 Batch  442/2757 - Train Accuracy: 0.7274, Validation Accuracy: 0.7318, Loss: 0.3976\n",
      "Epoch   0 Batch  444/2757 - Train Accuracy: 0.7537, Validation Accuracy: 0.7464, Loss: 0.3716\n",
      "Epoch   0 Batch  446/2757 - Train Accuracy: 0.6968, Validation Accuracy: 0.7664, Loss: 0.4088\n",
      "Epoch   0 Batch  448/2757 - Train Accuracy: 0.7789, Validation Accuracy: 0.7618, Loss: 0.3917\n",
      "Epoch   0 Batch  450/2757 - Train Accuracy: 0.6880, Validation Accuracy: 0.7564, Loss: 0.3790\n",
      "Epoch   0 Batch  452/2757 - Train Accuracy: 0.7320, Validation Accuracy: 0.7255, Loss: 0.3445\n",
      "Epoch   0 Batch  454/2757 - Train Accuracy: 0.7516, Validation Accuracy: 0.7145, Loss: 0.3740\n",
      "Epoch   0 Batch  456/2757 - Train Accuracy: 0.7137, Validation Accuracy: 0.7100, Loss: 0.4134\n",
      "Epoch   0 Batch  458/2757 - Train Accuracy: 0.6800, Validation Accuracy: 0.7255, Loss: 0.3625\n",
      "Epoch   0 Batch  460/2757 - Train Accuracy: 0.7463, Validation Accuracy: 0.7200, Loss: 0.3916\n",
      "Epoch   0 Batch  462/2757 - Train Accuracy: 0.6484, Validation Accuracy: 0.7200, Loss: 0.4181\n",
      "Epoch   0 Batch  464/2757 - Train Accuracy: 0.7460, Validation Accuracy: 0.6909, Loss: 0.3553\n",
      "Epoch   0 Batch  466/2757 - Train Accuracy: 0.6770, Validation Accuracy: 0.6645, Loss: 0.3658\n",
      "Epoch   0 Batch  468/2757 - Train Accuracy: 0.6070, Validation Accuracy: 0.6545, Loss: 0.4026\n",
      "Epoch   0 Batch  470/2757 - Train Accuracy: 0.6330, Validation Accuracy: 0.7227, Loss: 0.3772\n",
      "Epoch   0 Batch  472/2757 - Train Accuracy: 0.7305, Validation Accuracy: 0.7118, Loss: 0.3703\n",
      "Epoch   0 Batch  474/2757 - Train Accuracy: 0.7170, Validation Accuracy: 0.7445, Loss: 0.3877\n",
      "Epoch   0 Batch  476/2757 - Train Accuracy: 0.7042, Validation Accuracy: 0.7082, Loss: 0.3810\n",
      "Epoch   0 Batch  478/2757 - Train Accuracy: 0.7242, Validation Accuracy: 0.6955, Loss: 0.3758\n",
      "Epoch   0 Batch  480/2757 - Train Accuracy: 0.7716, Validation Accuracy: 0.7118, Loss: 0.3601\n",
      "Epoch   0 Batch  482/2757 - Train Accuracy: 0.6950, Validation Accuracy: 0.7464, Loss: 0.3062\n",
      "Epoch   0 Batch  484/2757 - Train Accuracy: 0.7305, Validation Accuracy: 0.7445, Loss: 0.3718\n",
      "Epoch   0 Batch  486/2757 - Train Accuracy: 0.7570, Validation Accuracy: 0.7527, Loss: 0.3255\n",
      "Epoch   0 Batch  488/2757 - Train Accuracy: 0.7221, Validation Accuracy: 0.7364, Loss: 0.3474\n",
      "Epoch   0 Batch  490/2757 - Train Accuracy: 0.8170, Validation Accuracy: 0.7273, Loss: 0.2888\n",
      "Epoch   0 Batch  492/2757 - Train Accuracy: 0.7200, Validation Accuracy: 0.7173, Loss: 0.2981\n",
      "Epoch   0 Batch  494/2757 - Train Accuracy: 0.7516, Validation Accuracy: 0.7409, Loss: 0.3011\n",
      "Epoch   0 Batch  496/2757 - Train Accuracy: 0.7537, Validation Accuracy: 0.7345, Loss: 0.3259\n",
      "Epoch   0 Batch  498/2757 - Train Accuracy: 0.7350, Validation Accuracy: 0.6900, Loss: 0.3128\n",
      "Epoch   0 Batch  500/2757 - Train Accuracy: 0.7240, Validation Accuracy: 0.7200, Loss: 0.3120\n",
      "Epoch   0 Batch  502/2757 - Train Accuracy: 0.7550, Validation Accuracy: 0.7500, Loss: 0.3196\n",
      "Epoch   0 Batch  504/2757 - Train Accuracy: 0.7830, Validation Accuracy: 0.7800, Loss: 0.2989\n",
      "Epoch   0 Batch  506/2757 - Train Accuracy: 0.7200, Validation Accuracy: 0.7782, Loss: 0.3175\n",
      "Epoch   0 Batch  508/2757 - Train Accuracy: 0.7200, Validation Accuracy: 0.7700, Loss: 0.3448\n",
      "Epoch   0 Batch  510/2757 - Train Accuracy: 0.7514, Validation Accuracy: 0.7491, Loss: 0.3234\n",
      "Epoch   0 Batch  512/2757 - Train Accuracy: 0.7330, Validation Accuracy: 0.7409, Loss: 0.3083\n",
      "Epoch   0 Batch  514/2757 - Train Accuracy: 0.7470, Validation Accuracy: 0.7482, Loss: 0.3641\n",
      "Epoch   0 Batch  516/2757 - Train Accuracy: 0.7360, Validation Accuracy: 0.7191, Loss: 0.2844\n",
      "Epoch   0 Batch  518/2757 - Train Accuracy: 0.7230, Validation Accuracy: 0.7045, Loss: 0.3043\n",
      "Epoch   0 Batch  520/2757 - Train Accuracy: 0.7400, Validation Accuracy: 0.7236, Loss: 0.3158\n",
      "Epoch   0 Batch  522/2757 - Train Accuracy: 0.7716, Validation Accuracy: 0.7364, Loss: 0.3003\n",
      "Epoch   0 Batch  524/2757 - Train Accuracy: 0.7720, Validation Accuracy: 0.7045, Loss: 0.3046\n",
      "Epoch   0 Batch  526/2757 - Train Accuracy: 0.7390, Validation Accuracy: 0.7518, Loss: 0.3448\n",
      "Epoch   0 Batch  528/2757 - Train Accuracy: 0.7340, Validation Accuracy: 0.7400, Loss: 0.3244\n",
      "Epoch   0 Batch  530/2757 - Train Accuracy: 0.7632, Validation Accuracy: 0.7391, Loss: 0.2925\n",
      "Epoch   0 Batch  532/2757 - Train Accuracy: 0.7320, Validation Accuracy: 0.7473, Loss: 0.2983\n",
      "Epoch   0 Batch  534/2757 - Train Accuracy: 0.7533, Validation Accuracy: 0.7364, Loss: 0.2544\n",
      "Epoch   0 Batch  536/2757 - Train Accuracy: 0.7510, Validation Accuracy: 0.7491, Loss: 0.2655\n",
      "Epoch   0 Batch  538/2757 - Train Accuracy: 0.7495, Validation Accuracy: 0.7536, Loss: 0.2657\n",
      "Epoch   0 Batch  540/2757 - Train Accuracy: 0.7495, Validation Accuracy: 0.7336, Loss: 0.3332\n",
      "Epoch   0 Batch  542/2757 - Train Accuracy: 0.7930, Validation Accuracy: 0.7009, Loss: 0.2742\n",
      "Epoch   0 Batch  544/2757 - Train Accuracy: 0.7179, Validation Accuracy: 0.7245, Loss: 0.2943\n",
      "Epoch   0 Batch  546/2757 - Train Accuracy: 0.7720, Validation Accuracy: 0.7164, Loss: 0.2496\n",
      "Epoch   0 Batch  548/2757 - Train Accuracy: 0.7770, Validation Accuracy: 0.6927, Loss: 0.2160\n",
      "Epoch   0 Batch  550/2757 - Train Accuracy: 0.7600, Validation Accuracy: 0.7409, Loss: 0.2622\n",
      "Epoch   0 Batch  552/2757 - Train Accuracy: 0.7168, Validation Accuracy: 0.7491, Loss: 0.2916\n"
     ]
    },
    {
     "ename": "KeyboardInterrupt",
     "evalue": "",
     "output_type": "error",
     "traceback": [
      "\u001b[0;31m---------------------------------------------------------------------------\u001b[0m",
      "\u001b[0;31mKeyboardInterrupt\u001b[0m                         Traceback (most recent call last)",
      "\u001b[0;32m<ipython-input-34-8b554ffa681f>\u001b[0m in \u001b[0;36m<module>\u001b[0;34m()\u001b[0m\n\u001b[1;32m     46\u001b[0m                  \u001b[0mtarget_sequence_length\u001b[0m\u001b[0;34m:\u001b[0m \u001b[0mtargets_lengths\u001b[0m\u001b[0;34m,\u001b[0m\u001b[0;34m\u001b[0m\u001b[0m\n\u001b[1;32m     47\u001b[0m                  \u001b[0msource_sequence_length\u001b[0m\u001b[0;34m:\u001b[0m \u001b[0msources_lengths\u001b[0m\u001b[0;34m,\u001b[0m\u001b[0;34m\u001b[0m\u001b[0m\n\u001b[0;32m---> 48\u001b[0;31m                  keep_prob: keep_probability})\n\u001b[0m\u001b[1;32m     49\u001b[0m \u001b[0;34m\u001b[0m\u001b[0m\n\u001b[1;32m     50\u001b[0m \u001b[0;34m\u001b[0m\u001b[0m\n",
      "\u001b[0;32m/Users/macbookpro/miniconda3/envs/jupyter/lib/python3.6/site-packages/tensorflow/python/client/session.py\u001b[0m in \u001b[0;36mrun\u001b[0;34m(self, fetches, feed_dict, options, run_metadata)\u001b[0m\n\u001b[1;32m    776\u001b[0m     \u001b[0;32mtry\u001b[0m\u001b[0;34m:\u001b[0m\u001b[0;34m\u001b[0m\u001b[0m\n\u001b[1;32m    777\u001b[0m       result = self._run(None, fetches, feed_dict, options_ptr,\n\u001b[0;32m--> 778\u001b[0;31m                          run_metadata_ptr)\n\u001b[0m\u001b[1;32m    779\u001b[0m       \u001b[0;32mif\u001b[0m \u001b[0mrun_metadata\u001b[0m\u001b[0;34m:\u001b[0m\u001b[0;34m\u001b[0m\u001b[0m\n\u001b[1;32m    780\u001b[0m         \u001b[0mproto_data\u001b[0m \u001b[0;34m=\u001b[0m \u001b[0mtf_session\u001b[0m\u001b[0;34m.\u001b[0m\u001b[0mTF_GetBuffer\u001b[0m\u001b[0;34m(\u001b[0m\u001b[0mrun_metadata_ptr\u001b[0m\u001b[0;34m)\u001b[0m\u001b[0;34m\u001b[0m\u001b[0m\n",
      "\u001b[0;32m/Users/macbookpro/miniconda3/envs/jupyter/lib/python3.6/site-packages/tensorflow/python/client/session.py\u001b[0m in \u001b[0;36m_run\u001b[0;34m(self, handle, fetches, feed_dict, options, run_metadata)\u001b[0m\n\u001b[1;32m    980\u001b[0m     \u001b[0;32mif\u001b[0m \u001b[0mfinal_fetches\u001b[0m \u001b[0;32mor\u001b[0m \u001b[0mfinal_targets\u001b[0m\u001b[0;34m:\u001b[0m\u001b[0;34m\u001b[0m\u001b[0m\n\u001b[1;32m    981\u001b[0m       results = self._do_run(handle, final_targets, final_fetches,\n\u001b[0;32m--> 982\u001b[0;31m                              feed_dict_string, options, run_metadata)\n\u001b[0m\u001b[1;32m    983\u001b[0m     \u001b[0;32melse\u001b[0m\u001b[0;34m:\u001b[0m\u001b[0;34m\u001b[0m\u001b[0m\n\u001b[1;32m    984\u001b[0m       \u001b[0mresults\u001b[0m \u001b[0;34m=\u001b[0m \u001b[0;34m[\u001b[0m\u001b[0;34m]\u001b[0m\u001b[0;34m\u001b[0m\u001b[0m\n",
      "\u001b[0;32m/Users/macbookpro/miniconda3/envs/jupyter/lib/python3.6/site-packages/tensorflow/python/client/session.py\u001b[0m in \u001b[0;36m_do_run\u001b[0;34m(self, handle, target_list, fetch_list, feed_dict, options, run_metadata)\u001b[0m\n\u001b[1;32m   1030\u001b[0m     \u001b[0;32mif\u001b[0m \u001b[0mhandle\u001b[0m \u001b[0;32mis\u001b[0m \u001b[0;32mNone\u001b[0m\u001b[0;34m:\u001b[0m\u001b[0;34m\u001b[0m\u001b[0m\n\u001b[1;32m   1031\u001b[0m       return self._do_call(_run_fn, self._session, feed_dict, fetch_list,\n\u001b[0;32m-> 1032\u001b[0;31m                            target_list, options, run_metadata)\n\u001b[0m\u001b[1;32m   1033\u001b[0m     \u001b[0;32melse\u001b[0m\u001b[0;34m:\u001b[0m\u001b[0;34m\u001b[0m\u001b[0m\n\u001b[1;32m   1034\u001b[0m       return self._do_call(_prun_fn, self._session, handle, feed_dict,\n",
      "\u001b[0;32m/Users/macbookpro/miniconda3/envs/jupyter/lib/python3.6/site-packages/tensorflow/python/client/session.py\u001b[0m in \u001b[0;36m_do_call\u001b[0;34m(self, fn, *args)\u001b[0m\n\u001b[1;32m   1037\u001b[0m   \u001b[0;32mdef\u001b[0m \u001b[0m_do_call\u001b[0m\u001b[0;34m(\u001b[0m\u001b[0mself\u001b[0m\u001b[0;34m,\u001b[0m \u001b[0mfn\u001b[0m\u001b[0;34m,\u001b[0m \u001b[0;34m*\u001b[0m\u001b[0margs\u001b[0m\u001b[0;34m)\u001b[0m\u001b[0;34m:\u001b[0m\u001b[0;34m\u001b[0m\u001b[0m\n\u001b[1;32m   1038\u001b[0m     \u001b[0;32mtry\u001b[0m\u001b[0;34m:\u001b[0m\u001b[0;34m\u001b[0m\u001b[0m\n\u001b[0;32m-> 1039\u001b[0;31m       \u001b[0;32mreturn\u001b[0m \u001b[0mfn\u001b[0m\u001b[0;34m(\u001b[0m\u001b[0;34m*\u001b[0m\u001b[0margs\u001b[0m\u001b[0;34m)\u001b[0m\u001b[0;34m\u001b[0m\u001b[0m\n\u001b[0m\u001b[1;32m   1040\u001b[0m     \u001b[0;32mexcept\u001b[0m \u001b[0merrors\u001b[0m\u001b[0;34m.\u001b[0m\u001b[0mOpError\u001b[0m \u001b[0;32mas\u001b[0m \u001b[0me\u001b[0m\u001b[0;34m:\u001b[0m\u001b[0;34m\u001b[0m\u001b[0m\n\u001b[1;32m   1041\u001b[0m       \u001b[0mmessage\u001b[0m \u001b[0;34m=\u001b[0m \u001b[0mcompat\u001b[0m\u001b[0;34m.\u001b[0m\u001b[0mas_text\u001b[0m\u001b[0;34m(\u001b[0m\u001b[0me\u001b[0m\u001b[0;34m.\u001b[0m\u001b[0mmessage\u001b[0m\u001b[0;34m)\u001b[0m\u001b[0;34m\u001b[0m\u001b[0m\n",
      "\u001b[0;32m/Users/macbookpro/miniconda3/envs/jupyter/lib/python3.6/site-packages/tensorflow/python/client/session.py\u001b[0m in \u001b[0;36m_run_fn\u001b[0;34m(session, feed_dict, fetch_list, target_list, options, run_metadata)\u001b[0m\n\u001b[1;32m   1019\u001b[0m         return tf_session.TF_Run(session, options,\n\u001b[1;32m   1020\u001b[0m                                  \u001b[0mfeed_dict\u001b[0m\u001b[0;34m,\u001b[0m \u001b[0mfetch_list\u001b[0m\u001b[0;34m,\u001b[0m \u001b[0mtarget_list\u001b[0m\u001b[0;34m,\u001b[0m\u001b[0;34m\u001b[0m\u001b[0m\n\u001b[0;32m-> 1021\u001b[0;31m                                  status, run_metadata)\n\u001b[0m\u001b[1;32m   1022\u001b[0m \u001b[0;34m\u001b[0m\u001b[0m\n\u001b[1;32m   1023\u001b[0m     \u001b[0;32mdef\u001b[0m \u001b[0m_prun_fn\u001b[0m\u001b[0;34m(\u001b[0m\u001b[0msession\u001b[0m\u001b[0;34m,\u001b[0m \u001b[0mhandle\u001b[0m\u001b[0;34m,\u001b[0m \u001b[0mfeed_dict\u001b[0m\u001b[0;34m,\u001b[0m \u001b[0mfetch_list\u001b[0m\u001b[0;34m)\u001b[0m\u001b[0;34m:\u001b[0m\u001b[0;34m\u001b[0m\u001b[0m\n",
      "\u001b[0;31mKeyboardInterrupt\u001b[0m: "
     ]
    }
   ],
   "source": [
    "\"\"\"\n",
    "DON'T MODIFY ANYTHING IN THIS CELL\n",
    "\"\"\"\n",
    "def get_accuracy(target, logits):\n",
    "    \"\"\"\n",
    "    Calculate accuracy\n",
    "    \"\"\"\n",
    "    max_seq = max(target.shape[1], logits.shape[1])\n",
    "    if max_seq - target.shape[1]:\n",
    "        target = np.pad(\n",
    "            target,\n",
    "            [(0,0),(0,max_seq - target.shape[1])],\n",
    "            'constant')\n",
    "    if max_seq - logits.shape[1]:\n",
    "        logits = np.pad(\n",
    "            logits,\n",
    "            [(0,0),(0,max_seq - logits.shape[1])],\n",
    "            'constant')\n",
    "\n",
    "    return np.mean(np.equal(target, logits))\n",
    "\n",
    "# Split data to training and validation sets\n",
    "train_source = source_int_text[batch_size:]\n",
    "train_target = target_int_text[batch_size:]\n",
    "valid_source = source_int_text[:batch_size]\n",
    "valid_target = target_int_text[:batch_size]\n",
    "(valid_sources_batch, valid_targets_batch, valid_sources_lengths, valid_targets_lengths ) = next(get_batches(valid_source,\n",
    "                                                                                                             valid_target,\n",
    "                                                                                                             batch_size,\n",
    "                                                                                                             source_vocab_to_int['<PAD>'],\n",
    "                                                                                                             target_vocab_to_int['<PAD>']))                                                                                                  \n",
    "with tf.Session(graph=train_graph) as sess:\n",
    "    sess.run(tf.global_variables_initializer())\n",
    "\n",
    "    for epoch_i in range(epochs):\n",
    "        for batch_i, (source_batch, target_batch, sources_lengths, targets_lengths) in enumerate(\n",
    "                get_batches(train_source, train_target, batch_size,\n",
    "                            source_vocab_to_int['<PAD>'],\n",
    "                            target_vocab_to_int['<PAD>'])):\n",
    "\n",
    "            _, loss = sess.run(\n",
    "                [train_op, cost],\n",
    "                {input_data: source_batch,\n",
    "                 targets: target_batch,\n",
    "                 lr: learning_rate,\n",
    "                 target_sequence_length: targets_lengths,\n",
    "                 source_sequence_length: sources_lengths,\n",
    "                 keep_prob: keep_probability})\n",
    "\n",
    "\n",
    "            if batch_i % display_step == 0 and batch_i > 0:\n",
    "\n",
    "\n",
    "                batch_train_logits = sess.run(\n",
    "                    inference_logits,\n",
    "                    {input_data: source_batch,\n",
    "                     source_sequence_length: sources_lengths,\n",
    "                     target_sequence_length: targets_lengths,\n",
    "                     keep_prob: 1.0})\n",
    "\n",
    "\n",
    "                batch_valid_logits = sess.run(\n",
    "                    inference_logits,\n",
    "                    {input_data: valid_sources_batch,\n",
    "                     source_sequence_length: valid_sources_lengths,\n",
    "                     target_sequence_length: valid_targets_lengths,\n",
    "                     keep_prob: 1.0})\n",
    "\n",
    "                train_acc = get_accuracy(target_batch, batch_train_logits)\n",
    "\n",
    "                valid_acc = get_accuracy(valid_targets_batch, batch_valid_logits)\n",
    "\n",
    "                print('Epoch {:>3} Batch {:>4}/{} - Train Accuracy: {:>6.4f}, Validation Accuracy: {:>6.4f}, Loss: {:>6.4f}'\n",
    "                      .format(epoch_i, batch_i, len(source_int_text) // batch_size, train_acc, valid_acc, loss))\n",
    "\n",
    "    # Save Model\n",
    "    saver = tf.train.Saver()\n",
    "    saver.save(sess, save_path)\n",
    "    print('Model Trained and Saved')"
   ]
  },
  {
   "cell_type": "markdown",
   "metadata": {
    "deletable": true,
    "editable": true
   },
   "source": [
    "### Save Parameters\n",
    "Save the `batch_size` and `save_path` parameters for inference."
   ]
  },
  {
   "cell_type": "code",
   "execution_count": null,
   "metadata": {
    "collapsed": true,
    "deletable": true,
    "editable": true
   },
   "outputs": [],
   "source": [
    "\"\"\"\n",
    "DON'T MODIFY ANYTHING IN THIS CELL\n",
    "\"\"\"\n",
    "# Save parameters for checkpoint\n",
    "helper.save_params(save_path)"
   ]
  },
  {
   "cell_type": "markdown",
   "metadata": {
    "deletable": true,
    "editable": true
   },
   "source": [
    "# Checkpoint"
   ]
  },
  {
   "cell_type": "code",
   "execution_count": null,
   "metadata": {
    "collapsed": true,
    "deletable": true,
    "editable": true
   },
   "outputs": [],
   "source": [
    "\"\"\"\n",
    "DON'T MODIFY ANYTHING IN THIS CELL\n",
    "\"\"\"\n",
    "import tensorflow as tf\n",
    "import numpy as np\n",
    "import helper\n",
    "import problem_unittests as tests\n",
    "\n",
    "_, (source_vocab_to_int, target_vocab_to_int), (source_int_to_vocab, target_int_to_vocab) = helper.load_preprocess()\n",
    "load_path = helper.load_params()"
   ]
  },
  {
   "cell_type": "markdown",
   "metadata": {
    "deletable": true,
    "editable": true
   },
   "source": [
    "## Sentence to Sequence\n",
    "To feed a sentence into the model for translation, you first need to preprocess it.  Implement the function `sentence_to_seq()` to preprocess new sentences.\n",
    "\n",
    "- Convert the sentence to lowercase\n",
    "- Convert words into ids using `vocab_to_int`\n",
    " - Convert words not in the vocabulary, to the `<UNK>` word id."
   ]
  },
  {
   "cell_type": "code",
   "execution_count": null,
   "metadata": {
    "collapsed": true,
    "deletable": true,
    "editable": true
   },
   "outputs": [],
   "source": [
    "def sentence_to_seq(sentence, vocab_to_int):\n",
    "    \"\"\"\n",
    "    Convert a sentence to a sequence of ids\n",
    "    :param sentence: String\n",
    "    :param vocab_to_int: Dictionary to go from the words to an id\n",
    "    :return: List of word ids\n",
    "    \"\"\"\n",
    "    # TODO: Implement Function\n",
    "    return None\n",
    "\n",
    "\n",
    "\"\"\"\n",
    "DON'T MODIFY ANYTHING IN THIS CELL THAT IS BELOW THIS LINE\n",
    "\"\"\"\n",
    "tests.test_sentence_to_seq(sentence_to_seq)"
   ]
  },
  {
   "cell_type": "markdown",
   "metadata": {
    "deletable": true,
    "editable": true
   },
   "source": [
    "## Translate\n",
    "This will translate `translate_sentence` from English to French."
   ]
  },
  {
   "cell_type": "code",
   "execution_count": null,
   "metadata": {
    "collapsed": true,
    "deletable": true,
    "editable": true
   },
   "outputs": [],
   "source": [
    "translate_sentence = 'he saw a old yellow truck .'\n",
    "\n",
    "\n",
    "\"\"\"\n",
    "DON'T MODIFY ANYTHING IN THIS CELL\n",
    "\"\"\"\n",
    "translate_sentence = sentence_to_seq(translate_sentence, source_vocab_to_int)\n",
    "\n",
    "loaded_graph = tf.Graph()\n",
    "with tf.Session(graph=loaded_graph) as sess:\n",
    "    # Load saved model\n",
    "    loader = tf.train.import_meta_graph(load_path + '.meta')\n",
    "    loader.restore(sess, load_path)\n",
    "\n",
    "    input_data = loaded_graph.get_tensor_by_name('input:0')\n",
    "    logits = loaded_graph.get_tensor_by_name('predictions:0')\n",
    "    target_sequence_length = loaded_graph.get_tensor_by_name('target_sequence_length:0')\n",
    "    source_sequence_length = loaded_graph.get_tensor_by_name('source_sequence_length:0')\n",
    "    keep_prob = loaded_graph.get_tensor_by_name('keep_prob:0')\n",
    "\n",
    "    translate_logits = sess.run(logits, {input_data: [translate_sentence]*batch_size,\n",
    "                                         target_sequence_length: [len(translate_sentence)*2]*batch_size,\n",
    "                                         source_sequence_length: [len(translate_sentence)]*batch_size,\n",
    "                                         keep_prob: 1.0})[0]\n",
    "\n",
    "print('Input')\n",
    "print('  Word Ids:      {}'.format([i for i in translate_sentence]))\n",
    "print('  English Words: {}'.format([source_int_to_vocab[i] for i in translate_sentence]))\n",
    "\n",
    "print('\\nPrediction')\n",
    "print('  Word Ids:      {}'.format([i for i in translate_logits]))\n",
    "print('  French Words: {}'.format(\" \".join([target_int_to_vocab[i] for i in translate_logits])))\n"
   ]
  },
  {
   "cell_type": "markdown",
   "metadata": {
    "deletable": true,
    "editable": true
   },
   "source": [
    "## Imperfect Translation\n",
    "You might notice that some sentences translate better than others.  Since the dataset you're using only has a vocabulary of 227 English words of the thousands that you use, you're only going to see good results using these words.  For this project, you don't need a perfect translation. However, if you want to create a better translation model, you'll need better data.\n",
    "\n",
    "You can train on the [WMT10 French-English corpus](http://www.statmt.org/wmt10/training-giga-fren.tar).  This dataset has more vocabulary and richer in topics discussed.  However, this will take you days to train, so make sure you've a GPU and the neural network is performing well on dataset we provided.  Just make sure you play with the WMT10 corpus after you've submitted this project.\n",
    "## Submitting This Project\n",
    "When submitting this project, make sure to run all the cells before saving the notebook. Save the notebook file as \"dlnd_language_translation.ipynb\" and save it as a HTML file under \"File\" -> \"Download as\". Include the \"helper.py\" and \"problem_unittests.py\" files in your submission."
   ]
  }
 ],
 "metadata": {
  "anaconda-cloud": {},
  "kernelspec": {
   "display_name": "Python 3",
   "language": "python",
   "name": "python3"
  },
  "language_info": {
   "codemirror_mode": {
    "name": "ipython",
    "version": 3
   },
   "file_extension": ".py",
   "mimetype": "text/x-python",
   "name": "python",
   "nbconvert_exporter": "python",
   "pygments_lexer": "ipython3",
   "version": "3.6.1"
  }
 },
 "nbformat": 4,
 "nbformat_minor": 1
}
